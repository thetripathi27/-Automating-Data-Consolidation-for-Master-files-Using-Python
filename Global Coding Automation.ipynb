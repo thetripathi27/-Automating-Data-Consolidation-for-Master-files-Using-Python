{
 "cells": [
  {
   "cell_type": "code",
   "execution_count": 20,
   "id": "e6e1d371",
   "metadata": {},
   "outputs": [
    {
     "name": "stdout",
     "output_type": "stream",
     "text": [
      "Enter the path: C:\\Users\\sisw0001\\OneDrive - The Nielsen Company\\Desktop\\Input\\\n",
      "Enter the Issue ID: REQ1\n",
      "Enter the Validation Owner: Swagat\n",
      "File Updated\n"
     ]
    }
   ],
   "source": [
    "import pandas as pd\n",
    "import os\n",
    "from datetime import date\n",
    "from openpyxl import load_workbook\n",
    "\n",
    "path = input(\"Enter the path: \")\n",
    "os.chdir(path)\n",
    "for file in os.listdir():\n",
    "    SourceForm = pd.read_excel(file,sheet_name='Request Form')\n",
    "    Source = pd.read_excel(file,sheet_name='Request Form',skiprows=6)\n",
    "Source.fillna(\"\", inplace = True)\n",
    "Source.insert(0, \"CLIENT\", SourceForm.iat[1,1])\n",
    "Source.insert(1, \"Issue ID\", input(\"Enter the Issue ID: \"))\n",
    "Source.insert(2, \"Date(mm/dd/yyyy)\", date.today())\n",
    "Source.insert(3, \"Validation Owner\", input(\"Enter the Validation Owner: \"))\n",
    "Source.insert(4, \"Country\", SourceForm.columns[0][28:])\n",
    "Source.insert(5, \"Category\", SourceForm.iat[2,1])\n",
    "Source.to_excel(r'C:\\Users\\sisw0001\\Downloads\\New.xlsx')\n",
    "\n",
    "FilePath = r\"C:\\Users\\sisw0001\\OneDrive - The Nielsen Company\\Desktop\\Master\\NEW BAU Validation 2022.xlsx\"\n",
    "ExcelWorkbook = load_workbook(FilePath)\n",
    "writer = pd.ExcelWriter(FilePath, engine = 'openpyxl')\n",
    "writer.book = ExcelWorkbook\n",
    "Source.to_excel(writer,'Current Month')\n",
    "writer.save()\n",
    "writer.close()\n",
    "\n",
    "print (\"File Updated\")"
   ]
  }
 ],
 "metadata": {
  "kernelspec": {
   "display_name": "Python 3 (ipykernel)",
   "language": "python",
   "name": "python3"
  },
  "language_info": {
   "codemirror_mode": {
    "name": "ipython",
    "version": 3
   },
   "file_extension": ".py",
   "mimetype": "text/x-python",
   "name": "python",
   "nbconvert_exporter": "python",
   "pygments_lexer": "ipython3",
   "version": "3.9.7"
  }
 },
 "nbformat": 4,
 "nbformat_minor": 5
}
